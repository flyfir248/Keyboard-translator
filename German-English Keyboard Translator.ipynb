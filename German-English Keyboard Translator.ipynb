{
 "cells": [
  {
   "cell_type": "markdown",
   "metadata": {},
   "source": [
    "# Keyboard Translator"
   ]
  },
  {
   "cell_type": "code",
   "execution_count": 1,
   "metadata": {},
   "outputs": [
    {
     "name": "stdout",
     "output_type": "stream",
     "text": [
      " Choose from language Below : \n",
      " 1. German \n",
      " 2. Spanish \n",
      " Enter the Choice 1-5 : 2\n",
      "\n",
      "\n",
      "{'Eliminar': 'remove', 'Insertar': 'Insert', 'Restablecer': 'Reset button', 'Espacio': 'Space Bar', 'Inicio': 'Home key', 'Mayúsculas': 'Caps Lock', 'Mayús': 'Shift key', 'Control': 'Control key', 'Función': 'Function key', 'Tabulador': 'Tab key', 'Windows': 'Windows button', 'Cancelar': 'Cancel button', 'Alt': 'Alt', 'AltGr': 'Alt Gr', 'Página ↑': 'Page Up', 'Página ↓': 'Page Down', 'Fin': 'End', 'Imprimir': 'Print Screen', 'Pausa': 'Pause', 'Romper': 'Scroll Lock'}\n"
     ]
    }
   ],
   "source": [
    "# List of optional languages to choose from\n",
    "\n",
    "lister_spanish=['Eliminar', 'Insertar', 'Restablecer', 'Espacio', 'Inicio', 'Mayúsculas', 'Mayús', 'Control', 'Función', 'Tabulador', 'Windows', 'Cancelar', 'Alt','AltGr','Página ↑','Página ↓','Fin','Imprimir','Pausa','Romper', 'Rodar']\n",
    "lister_german=['Entf','Einfügen', 'Rücksetztaste', 'Leertaste', 'Pos1-taste', 'Festestelltaste', 'Hochstelltaste', 'Steuerung', 'Funktiontaste', 'Tabulatortaste', 'Windowstaste', 'Abbruchtaste','Alt', 'AltGr', 'Bild↑', 'Bild↓', 'Ende', 'Drucken', 'Pause','Untbr','Rollen']\n",
    "lister_english=['remove','Insert','Reset button','Space Bar','Home key','Caps Lock','Shift key','Control key','Function key','Tab key','Windows button','Cancel button','Alt','Alt Gr','Page Up','Page Down','End','Print Screen','Pause','Scroll Lock']\n",
    "\n",
    "print(\" Choose from language Below : \")\n",
    "print(\" 1. German \")\n",
    "print(\" 2. Spanish \")\n",
    "\n",
    "User_input=int(input(\" Enter the Choice 1-5 : \"))       #Asks to choose the optional language from range 1 to 2 \n",
    "print(\"\\n\")\n",
    "if User_input==1:\n",
    "    dictA = dict(zip(lister_german, lister_english))     # Zips German and English intp dictionary\n",
    "    lang='German'\n",
    "if User_input==2:\n",
    "    dictA = dict(zip(lister_spanish, lister_english))    # Zips Spanish and English intp dictionary\n",
    "    lang='Spanish'\n",
    "else:\n",
    "    print(\" Out of Range \")                              # prints if choice is out of range of 1-2\n",
    "print(dictA)                                             # prints the zipped dictionary"
   ]
  },
  {
   "cell_type": "code",
   "execution_count": null,
   "metadata": {},
   "outputs": [],
   "source": []
  },
  {
   "cell_type": "code",
   "execution_count": 2,
   "metadata": {},
   "outputs": [
    {
     "name": "stdout",
     "output_type": "stream",
     "text": [
      "\n",
      " Entered value :  Eliminar\n",
      "\n",
      " Entered value :  Elimina\n"
     ]
    }
   ],
   "source": [
    "from tkinter import *                        # Import Tkinter package\n",
    "\n",
    "\n",
    "def quit():                                  # Quit function\n",
    "    qwert.destroy()\n",
    "    \n",
    "def find():                                  # Search dictionary function\n",
    "\n",
    "    entryvalue=query.get()\n",
    "    print(\"\\n Entered value : \",entryvalue)   # printing the value of key\n",
    "    if entryvalue in dictA:                   # checking in dictionary\n",
    "        label1=Label(qwert,text=dictA[entryvalue],bg=\"black\",fg=\"green\",font=100).pack() # printing the value linked to key\n",
    "    else:\n",
    "        label1=Label(qwert,text=\"Entered Text is not in Dictionary \",bg=\"black\",fg=\"red\",font=100).pack() # printing the else statement\n",
    "        \n",
    "qwert=Tk()\n",
    "\n",
    "query=StringVar()                                 # setting empty variable   \n",
    "qwert.title(\" Keyboard Mania !!\")                 # title   \n",
    "qwert.configure(background=\"black\")               # black window\n",
    "\n",
    "qwert.geometry(\"450x300\")      # set geometric dimensions\n",
    "\n",
    "Label(qwert,text=\" Keyboard Translator \",bg=\"black\",fg=\"green\",font=150).pack()   # label 1\n",
    "Label(qwert,text=\" Option Chosen : \"+str(User_input)+\" Language : \"+str(lang),bg=\"black\",fg=\"green\",font=100).pack()\n",
    "Label(qwert,text=\"Enter keyboard values :- \",bg=\"black\",fg=\"green\",font=100).pack() # label 2\n",
    "\n",
    "\n",
    "Entry(qwert,textvariable=query,font=100,bg=\"grey\").pack()   # Box to enter text\n",
    "Label(qwert,text=\" \",bg=\"black\",fg=\"green\",font=100).pack() # enter gap label\n",
    "\n",
    "btn=Button(qwert,text=\"ENTER\",bg=\"grey\",fg=\"green\",command=find).pack()       #set button \n",
    "Label(qwert,text=\" \",bg=\"black\",fg=\"green\",font=100).pack()                   # enter gap label\n",
    "btn2=Button(qwert,text=\"QUIT\",bg=\"grey\",fg=\"green\",bd=10,command=quit).pack() # set button\n",
    "Label(qwert,text=\" \",bg=\"black\",fg=\"green\",font=100).pack()                   # enter gap label\n",
    "Label(qwert,text=\"English values :- \",bg=\"black\",fg=\"green\",font=100).pack()  # label 3\n",
    "qwert.mainloop()"
   ]
  },
  {
   "cell_type": "code",
   "execution_count": null,
   "metadata": {},
   "outputs": [],
   "source": []
  },
  {
   "cell_type": "code",
   "execution_count": null,
   "metadata": {},
   "outputs": [],
   "source": []
  },
  {
   "cell_type": "code",
   "execution_count": null,
   "metadata": {},
   "outputs": [],
   "source": []
  },
  {
   "cell_type": "code",
   "execution_count": null,
   "metadata": {},
   "outputs": [],
   "source": []
  }
 ],
 "metadata": {
  "kernelspec": {
   "display_name": "Python 3",
   "language": "python",
   "name": "python3"
  },
  "language_info": {
   "codemirror_mode": {
    "name": "ipython",
    "version": 3
   },
   "file_extension": ".py",
   "mimetype": "text/x-python",
   "name": "python",
   "nbconvert_exporter": "python",
   "pygments_lexer": "ipython3",
   "version": "3.8.5"
  }
 },
 "nbformat": 4,
 "nbformat_minor": 4
}
